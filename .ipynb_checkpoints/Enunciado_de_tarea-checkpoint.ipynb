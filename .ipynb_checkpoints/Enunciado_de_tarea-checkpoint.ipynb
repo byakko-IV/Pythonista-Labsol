{
 "cells": [
  {
   "cell_type": "markdown",
   "metadata": {},
   "source": [
    "## Objetivo del código.\n",
    "\n",
    "El código de este ejercicio tiene por objetivo el de formar un sistema básico de altas de alumnos con los siguientes campos datos:\n",
    "\n",
    "* Nombre.\n",
    "* Primer apellido.\n",
    "* Segundo apellido (opcional).\n",
    "* Carrera.\n",
    "* Semestre.\n",
    "* Promedio.\n",
    "* Si se encuentra al corriente en sus pagos mediante un objeto de tipo *bool*.\n",
    "\n",
    "Existen ciertas reglas que deben de reforzarse:\n",
    "\n",
    "* Cada campo debe de corresponder de un tipo de dato específico.\n",
    "* El promedio del alumno debe de ser una cantidad entre 0 y 10.\n",
    "* Los semestres son enteros mayores o iguales a 1.\n",
    "* Sólo se pueden ingresar carreras registradas.\n",
    "* Aún cuando el campo Segundo apellido es opcional, es necesario pedir confirmación de que se deja en blanco.\n",
    "\n",
    "\n",
    "## Ejecución:\n",
    "\n",
    "Al ejecutar el código, se pedirá al usuario que ingrese el número de alumnos a dar de alta y el sistema procederá a pedir y validar cada campo de datos del alumno.\n",
    "Una vez terminada la captura, desplegará los datos de todos los registros."
   ]
  },
  {
   "cell_type": "markdown",
   "metadata": {},
   "source": [
    "## El paquete *caso*.\n",
    "\n",
    "Este paquete incluye varios módulos que realizarán las actividades descritas con los datos en memoria."
   ]
  },
  {
   "cell_type": "code",
   "execution_count": 1,
   "metadata": {},
   "outputs": [],
   "source": [
    "import caso"
   ]
  },
  {
   "cell_type": "code",
   "execution_count": 2,
   "metadata": {},
   "outputs": [
    {
     "name": "stdout",
     "output_type": "stream",
     "text": [
      "Número de alumnos:Miguel Angel\n",
      "invalid literal for int() with base 10: 'Miguel Angel'\n",
      "Número de alumnos:1\n",
      "\n",
      "\n",
      "Alumno nuevo 1\n",
      "Ingrese nombre: Miguel Angel\n",
      "Ingrese primer apellido: Hernandez\n",
      "Ingrese segundo apellido: Rodriguez\n",
      "Ingrese carrera: Sistemas\n",
      "Ingrese semestre: 10\n",
      "Ingrese promedio: 9\n",
      "Ingrese al corriente: True\n",
      "\n",
      "Alumno:  1\n",
      "Nombre: Eduardo\n",
      "Primer Apellido: Sánchez\n",
      "Segundo Apellido: Ramos\n",
      "Carrera: Sistemas\n",
      "Semestre: 6\n",
      "Promedio: 7.5\n",
      "Al Corriente: True\n",
      "\n",
      "Alumno:  2\n",
      "Nombre: Alberto\n",
      "Primer Apellido: Durán\n",
      "Segundo Apellido: Montellano\n",
      "Carrera: Derecho\n",
      "Semestre: 2\n",
      "Promedio: 6.3\n",
      "Al Corriente: True\n",
      "\n",
      "Alumno:  3\n",
      "Nombre: Joaquín\n",
      "Primer Apellido: Ausencio\n",
      "Segundo Apellido: Olvera\n",
      "Carrera: Actuaría\n",
      "Semestre: 2\n",
      "Promedio: 5.2\n",
      "Al Corriente: False\n",
      "\n",
      "Alumno:  4\n",
      "Nombre: Emiliano\n",
      "Primer Apellido: Rentería\n",
      "Segundo Apellido: \n",
      "Carrera: Administración\n",
      "Semestre: 4\n",
      "Promedio: 8.7\n",
      "Al Corriente: True\n",
      "\n",
      "Alumno:  5\n",
      "Nombre: Patricio\n",
      "Primer Apellido: Ayala\n",
      "Segundo Apellido: Arriaga\n",
      "Carrera: Sistemas\n",
      "Semestre: 5\n",
      "Promedio: 8.0\n",
      "Al Corriente: True\n",
      "\n",
      "Alumno:  6\n",
      "Nombre: Miguel Angel\n",
      "Primer Apellido: Hernandez\n",
      "Segundo Apellido: Rodriguez\n",
      "Carrera: Sistemas\n",
      "Semestre: 10\n",
      "Promedio: 9.0\n",
      "Al Corriente: True\n"
     ]
    }
   ],
   "source": [
    "caso.principal()"
   ]
  },
  {
   "cell_type": "markdown",
   "metadata": {},
   "source": [
    "## El paquete *caso_nuevo*.\n",
    "Este paquete incluye varios módulos que realizarán las actividades descritas, pero los datos son almacenados en el archivo de texto en la ruta local *caso_nuevo/alumnos.txt* como una sucesión de líneas en donde cada una de ellas corresponden a un objeto de tipo *dict*."
   ]
  },
  {
   "cell_type": "code",
   "execution_count": null,
   "metadata": {},
   "outputs": [],
   "source": [
    "%cat caso_nuevo/alumnos.txt"
   ]
  },
  {
   "cell_type": "code",
   "execution_count": null,
   "metadata": {},
   "outputs": [],
   "source": [
    "import caso_nuevo"
   ]
  },
  {
   "cell_type": "code",
   "execution_count": null,
   "metadata": {},
   "outputs": [],
   "source": [
    "caso_nuevo.principal()"
   ]
  },
  {
   "cell_type": "code",
   "execution_count": null,
   "metadata": {},
   "outputs": [],
   "source": [
    "%cat caso_nuevo/alumnos.txt"
   ]
  },
  {
   "cell_type": "markdown",
   "metadata": {},
   "source": [
    "## Tarea a realizar.\n",
    "\n",
    "* Lea, analice y comente el código de cada módulo.\n",
    "* Cree un nuevo módulo en cada paquete llamado *busqueda* que contenga la función *buscar()* que realice busquedas de coincidencias de una cadena de caracteres, la cual se ingresa como argumento de dicha función. Dicha búsqueda se realizará en los campos *Nombre*, *Primer apellido* y *Segundo apellido*. La función debe de regresar un objeto de tipo *tuple* que contenga todos los datos de los registros que coincidan."
   ]
  }
 ],
 "metadata": {
  "kernelspec": {
   "display_name": "Python 3",
   "language": "python",
   "name": "python3"
  },
  "language_info": {
   "codemirror_mode": {
    "name": "ipython",
    "version": 3
   },
   "file_extension": ".py",
   "mimetype": "text/x-python",
   "name": "python",
   "nbconvert_exporter": "python",
   "pygments_lexer": "ipython3",
   "version": "3.6.4"
  }
 },
 "nbformat": 4,
 "nbformat_minor": 2
}
